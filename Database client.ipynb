{
 "cells": [
  {
   "cell_type": "markdown",
   "id": "7be79824",
   "metadata": {},
   "source": [
    "# Tasks: Database Client"
   ]
  },
  {
   "cell_type": "code",
   "execution_count": null,
   "id": "4e0a97d7",
   "metadata": {},
   "outputs": [],
   "source": [
    "# Task 1\n",
    "import mysql.connector as connector\n",
    "# Establish connection b/w Python and MySQL database via connector API\n",
    "connection=connector.connect(user=\"tiffany\", password=\"\", database=\"little_lemon_db\")\n",
    "# Confirm the database in use\n",
    "connection.database\n",
    "\n",
    "# Task 2\n",
    "# Create a cursor object to communicate with entire MySQL database\n",
    "cursor = connection.cursor()\n",
    "show_tables_query = \"SHOW tables\" \n",
    "cursor.execute(show_tables_query)\n",
    "results = cursor.fetchall()\n",
    "for i in results:\n",
    "    print(i)\n",
    "    \n",
    "#Task 3\n",
    "query = \"\"\"\n",
    "SELECT Customers.FullName, Customers.ContactNumber, Orders.TotalCost\n",
    "FROM Orders INNER JOIN Customers ON Orders.CustomerID = Customers.CustomerID\n",
    "WHERE Orders.TotalCost >= 60;\n",
    "\"\"\"\n",
    "cursor.execute(query)\n",
    "result2 = cursor.fetchall()\n",
    "for i in result2:\n",
    "    print(i)"
   ]
  }
 ],
 "metadata": {
  "kernelspec": {
   "display_name": "Python 3",
   "language": "python",
   "name": "python3"
  },
  "language_info": {
   "codemirror_mode": {
    "name": "ipython",
    "version": 3
   },
   "file_extension": ".py",
   "mimetype": "text/x-python",
   "name": "python",
   "nbconvert_exporter": "python",
   "pygments_lexer": "ipython3",
   "version": "3.8.8"
  }
 },
 "nbformat": 4,
 "nbformat_minor": 5
}
